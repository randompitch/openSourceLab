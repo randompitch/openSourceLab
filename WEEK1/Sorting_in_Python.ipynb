{
 "cells": [
  {
   "cell_type": "code",
   "execution_count": 4,
   "metadata": {},
   "outputs": [
    {
     "name": "stdout",
     "output_type": "stream",
     "text": [
      "Sorted Array using Bubble Sort:\n",
      "0 9 10 12 32 54 67 \n",
      "\n",
      "Sorted Array using Insertion Sort:\n",
      "0 9 10 12 32 54 67 \n",
      "\n",
      "Sorted Array using Selection Sort:\n",
      "0 9 10 12 32 54 67 "
     ]
    }
   ],
   "source": [
    "def bubbleSort(arr):\n",
    "    n = len(arr);\n",
    "    for i in range(n):\n",
    "        swapped = False\n",
    "        for j in range(n-i-1):\n",
    "            if arr[j] > arr[j+1]:\n",
    "                arr[j], arr[j+1] = arr[j+1], arr[j]\n",
    "                swapped = True;\n",
    "        if(swapped == False):\n",
    "            break\n",
    "            \n",
    "def insertionSort(arr):\n",
    "    for i in range(1, len(arr)):\n",
    "        key = arr[i]\n",
    "        j = i-1\n",
    "        while j>=0 and key < arr[j]:\n",
    "            arr[j+1] = arr[j]\n",
    "            j -= 1\n",
    "        arr[j+1] = key\n",
    "        \n",
    "def selectionSort(arr):\n",
    "    for i in range(len(arr)):\n",
    "        minIdx = i\n",
    "        for j in range(i+1, len(arr)):\n",
    "            if arr[minIdx] > arr[j]:\n",
    "                minIdx = j\n",
    "        arr[i], arr[minIdx] = arr[minIdx], arr[i]\n",
    "\n",
    "#MAIN\n",
    "arr = [9,54,12,32,0,67,10];\n",
    "bubbleSort(arr)\n",
    "print(\"Sorted Array using Bubble Sort:\")\n",
    "for i in range(len(arr)):\n",
    "    print(arr[i], end = \" \")\n",
    "        \n",
    "arr = [9,54,12,32,0,67,10];\n",
    "insertionSort(arr)\n",
    "print(\"\\n\\nSorted Array using Insertion Sort:\")\n",
    "for i in range(len(arr)):\n",
    "    print(arr[i], end = \" \")\n",
    "    \n",
    "arr = [9,54,12,32,0,67,10];\n",
    "selectionSort(arr)\n",
    "print(\"\\n\\nSorted Array using Selection Sort:\")\n",
    "for i in range(len(arr)):\n",
    "    print(arr[i], end = \" \")"
   ]
  },
  {
   "cell_type": "code",
   "execution_count": null,
   "metadata": {},
   "outputs": [],
   "source": []
  }
 ],
 "metadata": {
  "kernelspec": {
   "display_name": "Python 3",
   "language": "python",
   "name": "python3"
  },
  "language_info": {
   "codemirror_mode": {
    "name": "ipython",
    "version": 3
   },
   "file_extension": ".py",
   "mimetype": "text/x-python",
   "name": "python",
   "nbconvert_exporter": "python",
   "pygments_lexer": "ipython3",
   "version": "3.7.3"
  }
 },
 "nbformat": 4,
 "nbformat_minor": 2
}
