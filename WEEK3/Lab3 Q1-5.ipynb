{
 "cells": [
  {
   "cell_type": "code",
   "execution_count": 1,
   "metadata": {},
   "outputs": [
    {
     "name": "stdout",
     "output_type": "stream",
     "text": [
      "Enter number of pair in dictionary: 3\n",
      "Enter key: 1\n",
      "Enter value: a\n",
      "Enter key: 2\n",
      "Enter value: b\n",
      "Enter key: 3\n",
      "Enter value: c\n",
      "The dictionary is:  {'1': 'a', '2': 'b', '3': 'c'}\n",
      "The dictionary after inverting is: {'a': '1', 'b': '2', 'c': '3'}\n"
     ]
    }
   ],
   "source": [
    "#Q1 Write a function invertdict to interchange keys and values in a dictionary. For simplicity,\n",
    "#   assume that all values are unique.\n",
    "\n",
    "def invertdict(dic):\n",
    "    return dict([(value, key) for key,value in dic.items()])\n",
    "    \n",
    "#main\n",
    "n = int(input(\"Enter number of pair in dictionary: \"))\n",
    "dic = {}\n",
    "for i in range(0,n):\n",
    "3    ke = input(\"Enter key: \")\n",
    "    vale = input(\"Enter value: \")\n",
    "    dic[ke] = vale\n",
    "    \n",
    "print(\"The dictionary is: \", dic)\n",
    "new_dic = invertdict(dic)\n",
    "print(\"The dictionary after inverting is:\", new_dic)"
   ]
  },
  {
   "cell_type": "code",
   "execution_count": 4,
   "metadata": {},
   "outputs": [
    {
     "name": "stdout",
     "output_type": "stream",
     "text": [
      "Enter number of pair in dictionary: 3\n",
      "Enter key: m\n",
      "Enter value: 13\n",
      "Enter key: e\n",
      "Enter value: 5\n",
      "Enter key: g\n",
      "Enter value: 7\n",
      "{'e': '5', 'g': '7', 'm': '13'}\n"
     ]
    }
   ],
   "source": [
    "#Q2 Write a function valuesort to sort values of a dictionary based on the key.  \n",
    "\n",
    "n = int(input(\"Enter number of pair in dictionary: \"))\n",
    "dic = {}\n",
    "for i in range(0,n):\n",
    "    ke = input(\"Enter key: \")\n",
    "    vale = input(\"Enter value: \")\n",
    "    dic[ke] = vale\n",
    "    \n",
    "print(dict(sorted(dic.items())))"
   ]
  },
  {
   "cell_type": "code",
   "execution_count": 7,
   "metadata": {},
   "outputs": [
    {
     "name": "stdout",
     "output_type": "stream",
     "text": [
      "Enter number of elements in list: 8\n",
      "Enter number: 10\n",
      "Enter number: 12\n",
      "Enter number: 1\n",
      "Enter number: 6\n",
      "Enter number: 90\n",
      "Enter number: 87\n",
      "Enter number: 34\n",
      "Enter number: 16\n",
      "The list is:  [10, 12, 1, 6, 90, 87, 34, 16]\n",
      "Enter number upto which you want to find the largest element: 5\n",
      "90 87 34 16 12 "
     ]
    }
   ],
   "source": [
    "#Q3 Write a python program to find N largest elements assuming size of list is greater than\n",
    "#   or equal to N.\n",
    "\n",
    "n = int(input(\"Enter number of elements in list: \"))\n",
    "lis = []\n",
    "for i in range(n):\n",
    "    r = int(input(\"Enter number: \"))\n",
    "    lis.append(r)\n",
    "    \n",
    "print(\"The list is: \", lis)\n",
    "lis.sort()\n",
    "lis.reverse()\n",
    "nu = int(input(\"Enter number upto which you want to find the largest element: \"))\n",
    "for i in range(nu):\n",
    "    print(lis[i], end = \" \")"
   ]
  },
  {
   "cell_type": "code",
   "execution_count": 15,
   "metadata": {},
   "outputs": [
    {
     "name": "stdout",
     "output_type": "stream",
     "text": [
      "abcdef abcghi abcjkl abcmno abcpqrs abctuv abcwxy abcz \n",
      "\n",
      "defabc defghi defjkl defmno defpqrs deftuv defwxy defz \n",
      "\n",
      "ghiabc ghidef ghijkl ghimno ghipqrs ghituv ghiwxy ghiz \n",
      "\n",
      "jklabc jkldef jklghi jklmno jklpqrs jkltuv jklwxy jklz \n",
      "\n",
      "mnoabc mnodef mnoghi mnojkl mnopqrs mnotuv mnowxy mnoz \n",
      "\n",
      "pqrsabc pqrsdef pqrsghi pqrsjkl pqrsmno pqrstuv pqrswxy pqrsz \n",
      "\n",
      "tuvabc tuvdef tuvghi tuvjkl tuvmno tuvpqrs tuvwxy tuvz \n",
      "\n",
      "wxyabc wxydef wxyghi wxyjkl wxymno wxypqrs wxytuv wxyz \n",
      "\n",
      "zabc zdef zghi zjkl zmno zpqrs ztuv zwxy \n",
      "\n"
     ]
    }
   ],
   "source": [
    "#Q4 Write a Python program to get all possible two digit letter combinations from a digit\n",
    "#  (1 to 9) string.\n",
    "\n",
    "string_maps = { \"1\": \"abc\",\"2\": \"def\",\"3\": \"ghi\",\"4\": \"jkl\",\"5\": \"mno\",\"6\": \"pqrs\", \"7\": \"tuv\",\n",
    "\"8\": \"wxy\", \"9\": \"z\"}\n",
    "for i in string_maps:\n",
    "    for j in string_maps:\n",
    "        if(i!=j):\n",
    "            string = string_maps.get(i) + string_maps.get(j)\n",
    "            print(string, end = \" \")\n",
    "    print(\"\\n\")"
   ]
  },
  {
   "cell_type": "code",
   "execution_count": 16,
   "metadata": {},
   "outputs": [
    {
     "name": "stdout",
     "output_type": "stream",
     "text": [
      "Input 10 rows of 10 numbers representing green squares (island) as 1 and blue squares (sea) as zeros\n",
      "1100000111\n",
      "1000000111\n",
      "0000000111\n",
      "0010001000\n",
      "0000011100\n",
      "0000111110\n",
      "0001111111\n",
      "1000111110\n",
      "1100011100\n",
      "1110001000\n",
      "Number of islands:\n",
      "5\n"
     ]
    }
   ],
   "source": [
    "#Q5  There are 10 vertical and horizontal squares on a plane. Each square is painted blue and\n",
    "#    green. Blue represents the sea, and green represents the land. When two green squares\n",
    "#    are in contact with the top and bottom, or right and left, they are said to be ground. The\n",
    "#    area created by only one green square is called \"island\". Write a Python program to read\n",
    "#    the mass data and find the number of islands.\n",
    "\n",
    "c=0\n",
    "def f(x, y, z):\n",
    "    if 0 <= y < 10 and 0 <= z < 10 and x[z][y] == '1':\n",
    "        x[z][y] = '0'\n",
    "        for dy, dz in [[-1,0], [1,0], [0,-1], [0,1]] : f(x, y+dy, z+dz)\n",
    "print(\"Input 10 rows of 10 numbers representing green squares (island) as 1 and blue squares (sea) as zeros\")\n",
    "\n",
    "x = [list(input()) for _ in [0]*10]\n",
    "c = 1; b = 0\n",
    "for i in range(10):\n",
    "    for j in range(10):\n",
    "        if x[j][i] == '1':\n",
    "            b += 1;\n",
    "            f(x, i, j)\n",
    "           \n",
    "print(\"Number of islands:\")    \n",
    "print(b)"
   ]
  },
  {
   "cell_type": "code",
   "execution_count": null,
   "metadata": {},
   "outputs": [],
   "source": []
  }
 ],
 "metadata": {
  "kernelspec": {
   "display_name": "Python 3",
   "language": "python",
   "name": "python3"
  }
 },
 "nbformat": 4,
 "nbformat_minor": 2
}
