{
 "cells": [
  {
   "cell_type": "code",
   "execution_count": 27,
   "metadata": {},
   "outputs": [
    {
     "name": "stdout",
     "output_type": "stream",
     "text": [
      "Training & Placement\n",
      "Placement Cell\n",
      "Anunaad - The Institute Newsletter\n",
      "Annual Reports\n",
      "Quick Enquiry\n",
      "\n",
      " Best Placement Engineering College in Delhi NCR - JIIT\n",
      "\n",
      " Training & Placement\n"
     ]
    }
   ],
   "source": [
    "from bs4 import BeautifulSoup\n",
    "import requests\n",
    "\n",
    "url = \"https://www.jiit.ac.in/student-placement\"\n",
    "r = requests.get(url)\n",
    "data = r.text\n",
    "#print(data)\n",
    "\n",
    "soup = BeautifulSoup(data)\n",
    "'''\n",
    "for i in soup.find_all('h2'):\n",
    "    print(i.text)\n",
    "'''\n",
    "\n",
    "for i in soup.find_all('h2'):\n",
    "    print(i.text)\n",
    "\n",
    "print(\"\\n\",soup.title.text) \n",
    "print(\"\\n\",soup.h2.string) "
   ]
  },
  {
   "cell_type": "code",
   "execution_count": 31,
   "metadata": {},
   "outputs": [
    {
     "name": "stdout",
     "output_type": "stream",
     "text": [
      "high \t low\n",
      "91 \t 67\n",
      "90 \t 67\n",
      "87 \t 60\n",
      "89 \t 66\n",
      "87 \t 62\n",
      "82 \t 60\n",
      "89 \t 64\n",
      "89 \t 65\n",
      "86 \t 63\n",
      "65 \t 47\n",
      "88 \t 66\n",
      "89 \t 67\n",
      "62 \t 50\n",
      "67 \t 45\n"
     ]
    }
   ],
   "source": [
    "from bs4 import BeautifulSoup\n",
    "import requests\n",
    "#import pymongo\n",
    "url = \"https://www.currentresults.com/Weather/India/average-annual-temperatures.php\"\n",
    "r = requests.get(url)\n",
    "data = r.text\n",
    "soup = BeautifulSoup(data, \"html.parser\")\n",
    "#print(soup.table.text)\n",
    "#mongo_db = pymongo.MongoClient(\"localhost://27017\")\n",
    "#mydb = mongo_db[]\n",
    "#mycol = mydb[]\n",
    "#print(mongo_db)\n",
    "#print(soup)\n",
    "p = soup.table\n",
    "#print(p)\n",
    "dat = []\n",
    "for i in p.find_all(\"tr\"):\n",
    "    t = []\n",
    "    for col in i.find_all(\"td\"):\n",
    "        #print(col)\n",
    "        t.append(col.text)\n",
    "    dat.append(t)\n",
    "#print(dat)\n",
    "print(\"high\", \"\\t\", \"low\")\n",
    "#print(len(dat))\n",
    "for i in range(1,len(dat)-1):\n",
    "    #print(\"a\")\n",
    "    #print(i)\n",
    "    #print(dat[i][0],\"\\t\",dat[i][1])\n",
    "    print(dat[i][0], \"\\t\",dat[i][1])\n"
   ]
  }
 ],
 "metadata": {
  "kernelspec": {
   "display_name": "Python 3",
   "language": "python",
   "name": "python3"
  },
  "language_info": {
   "codemirror_mode": {
    "name": "ipython",
    "version": 3
   },
   "file_extension": ".py",
   "mimetype": "text/x-python",
   "name": "python",
   "nbconvert_exporter": "python",
   "pygments_lexer": "ipython3",
   "version": "3.11.4"
  }
 },
 "nbformat": 4,
 "nbformat_minor": 2
}
