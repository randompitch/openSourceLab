{
 "cells": [
  {
   "cell_type": "code",
   "execution_count": 4,
   "metadata": {},
   "outputs": [
    {
     "name": "stdout",
     "output_type": "stream",
     "text": [
      "{'ak': 20, 'mn': 10, 'ah': 12, 'nl': 1, 'm': 15}\n"
     ]
    }
   ],
   "source": [
    "'''WAP \tto combine the values of two dictionaries having same key.\n",
    "ex.\n",
    "    Dict1:  {'ak': 15, 'mn': 10, 'ah': 5, 'nl': 1}\n",
    "    Dict2:  {'m': 15, 'ah': 7, 'ak': 5}\n",
    "    OUTPUT---\n",
    "        Dict3:  {ak': 20, 'm': 15, 'ah': 12, 'mn': 10, 'nl': 1}\n",
    "'''\n",
    "\n",
    "d1 = {'ak': 15, 'mn': 10, 'ah': 5, 'nl': 1}\n",
    "d2 = {'m':15 ,'ah': 7,'ak': 5}\n",
    "d3 = {}\n",
    "for i in d1:\n",
    "    if i in d2:\n",
    "        d3[i] = d1[i] + d2[i]\n",
    "    else:\n",
    "        d3[i] = d1[i]\n",
    "for i in d2:\n",
    "    if i not in d3:\n",
    "        d3[i] = d2[i]\n",
    "print(d3)\n",
    "        "
   ]
  },
  {
   "cell_type": "code",
   "execution_count": 5,
   "metadata": {},
   "outputs": [],
   "source": [
    "'''Given two files one.txt and two.txt, WAP to create a file three.txt which is union of one.txt and two.txt.\n",
    "e.g.:\n",
    "INPUT---\n",
    "    one.txt             two.txt\n",
    "        hello               hi\n",
    "        world               world \n",
    "OUTPUT---\n",
    "    three.txt\n",
    "        hello\n",
    "        hi\n",
    "        world\n",
    "'''\n",
    "\n",
    "one = open('one.txt', 'w')\n",
    "two = open('two.txt', 'w')\n",
    "one.write(\"Hello\\nWorld\")\n",
    "two.write(\"Hi\\nWorld\")\n",
    "one.close()\n",
    "two.close()"
   ]
  },
  {
   "cell_type": "code",
   "execution_count": 17,
   "metadata": {},
   "outputs": [
    {
     "name": "stdout",
     "output_type": "stream",
     "text": [
      "Content of one.txt:  ['Hello\\n', 'World']\n",
      "Content of two.txt  ['Hi\\n', 'World']\n",
      "Content of three.txt:  ['Hello\\n', 'Hi\\n', 'World']\n"
     ]
    }
   ],
   "source": [
    "one = open('one.txt')\n",
    "two = open('two.txt')\n",
    "w1 = one.readlines()\n",
    "w2 = two.readlines()\n",
    "lis = []\n",
    "print(\"Content of one.txt: \", w1)\n",
    "print(\"Content of two.txt \", w2)\n",
    "for i in w1:\n",
    "    if i not in w2:\n",
    "        lis.append(i)\n",
    "for i in w2:\n",
    "    if i not in lis:\n",
    "        lis.append(i)\n",
    "three = open('three.txt', 'w')\n",
    "for i in lis:\n",
    "    three.write(i)\n",
    "one.close()\n",
    "two.close()\n",
    "three.close()\n",
    "t = open('three.txt')\n",
    "print(\"Content of three.txt: \",t.readlines())\n",
    "t.close()\n"
   ]
  },
  {
   "cell_type": "code",
   "execution_count": null,
   "metadata": {},
   "outputs": [],
   "source": []
  }
 ],
 "metadata": {
  "kernelspec": {
   "display_name": "Python 3",
   "language": "python",
   "name": "python3"
  },
  "language_info": {
   "codemirror_mode": {
    "name": "ipython",
    "version": 3
   },
   "file_extension": ".py",
   "mimetype": "text/x-python",
   "name": "python",
   "nbconvert_exporter": "python",
   "pygments_lexer": "ipython3",
   "version": "3.7.3"
  }
 },
 "nbformat": 4,
 "nbformat_minor": 2
}
