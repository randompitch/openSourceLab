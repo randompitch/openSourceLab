{
 "cells": [
  {
   "cell_type": "code",
   "execution_count": 1,
   "metadata": {},
   "outputs": [
    {
     "name": "stdout",
     "output_type": "stream",
     "text": [
      "c:\\Users\\megha\\Desktop\\openSourceLab\\prac\n",
      "This is some random text\n",
      "19923\n"
     ]
    }
   ],
   "source": [
    "import os\n",
    "print(os.getcwd())\n",
    "file = open('myfile.txt', 'w')\n",
    "file.write(\"This is some random text\")\n",
    "file.close()\n",
    "rf = open('myfile.txt', 'r')\n",
    "pp = rf.read()\n",
    "print(pp)\n",
    "rf.close()\n",
    "print(\"19923\")"
   ]
  },
  {
   "cell_type": "code",
   "execution_count": 7,
   "metadata": {},
   "outputs": [
    {
     "name": "stdout",
     "output_type": "stream",
     "text": [
      "This is some random text\n",
      "This is some newly written random text\n",
      "this is not a good world\n"
     ]
    }
   ],
   "source": [
    "file = open('myfile.txt', 'a')\n",
    "file.write(\"\\nThis is some newly written random text\\nthis is not a good world\")\n",
    "file.close()\n",
    "rf = open('myfile.txt', 'r')\n",
    "pp = rf.read()\n",
    "print(pp)\n",
    "rf.close()"
   ]
  },
  {
   "cell_type": "code",
   "execution_count": 13,
   "metadata": {},
   "outputs": [
    {
     "name": "stdout",
     "output_type": "stream",
     "text": [
      "This is some random text\n",
      "\n",
      "25\n"
     ]
    }
   ],
   "source": [
    "prp = open('myfile.txt')\n",
    "lis = prp.readline()\n",
    "print(lis)\n",
    "prp.close()\n",
    "print(len(lis))"
   ]
  },
  {
   "cell_type": "code",
   "execution_count": 4,
   "metadata": {},
   "outputs": [
    {
     "name": "stdout",
     "output_type": "stream",
     "text": [
      "['This', 'is', 'some', 'random', 'text', 'This', 'is', 'some', 'newly', 'written', 'random', 'text', 'this', 'is', 'not', 'a', 'good', 'world']\n",
      "7\n",
      "['written']\n"
     ]
    }
   ],
   "source": [
    "nw = open('myfile.txt')\n",
    "cont = nw.read().split()\n",
    "print(cont)\n",
    "maxLen = len(max(cont))\n",
    "print(maxLen)\n",
    "print([w for w in cont if len(w) == maxLen])"
   ]
  }
 ],
 "metadata": {
  "kernelspec": {
   "display_name": "Python 3",
   "language": "python",
   "name": "python3"
  },
  "language_info": {
   "codemirror_mode": {
    "name": "ipython",
    "version": 3
   },
   "file_extension": ".py",
   "mimetype": "text/x-python",
   "name": "python",
   "nbconvert_exporter": "python",
   "pygments_lexer": "ipython3",
   "version": "3.11.4"
  },
  "orig_nbformat": 4
 },
 "nbformat": 4,
 "nbformat_minor": 2
}
